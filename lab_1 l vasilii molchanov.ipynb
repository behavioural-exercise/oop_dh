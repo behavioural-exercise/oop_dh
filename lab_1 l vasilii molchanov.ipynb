{
 "cells": [
  {
   "cell_type": "code",
   "execution_count": 1,
   "metadata": {},
   "outputs": [
    {
     "name": "stdout",
     "output_type": "stream",
     "text": [
      "Номер моего варианта: 2\n"
     ]
    }
   ],
   "source": [
    "# родился 30 апреля 2001 года\n",
    "d = 30\n",
    "n = 14\n",
    "\n",
    "print(f\"Номер моего варианта: {(d - 1) % n + 1}\")"
   ]
  },
  {
   "cell_type": "markdown",
   "metadata": {},
   "source": [
    "> ### Представление комплексных чисел\n",
    "> **N.B.** В школе и на бакалавриате у меня не было занятий по комплексным числам, поэтому,\n",
    "> прикладываю формулы, на основе которых строились классы\n",
    "> <br />\n",
    "> <br />\n",
    "> ![](https://www.aplustopper.com/wp-content/uploads/2017/05/Complex-Numbers-3.jpg)"
   ]
  },
  {
   "cell_type": "code",
   "execution_count": 2,
   "metadata": {},
   "outputs": [],
   "source": [
    "# Класс для представления комплексных чисел\n",
    "class Complex:\n",
    "    \n",
    "    # Конструктор с действительной и мнимой частью\n",
    "    def __init__(self, real, imag):\n",
    "        self.real = real\n",
    "        self.imag = imag\n",
    "    \n",
    "    # Строковое представление комплексного числа\n",
    "    def __str__(self):\n",
    "        if self.imag >= 0:\n",
    "            return f\"{self.real} + {self.imag}i\"\n",
    "        else:\n",
    "            return f\"{self.real} - {-self.imag}i\"\n",
    "    \n",
    "    # Сложение\n",
    "    def __add__(self, other):\n",
    "        return Complex(self.real + other.real, self.imag + other.imag)\n",
    "    \n",
    "    # Вычитание\n",
    "    def __sub__(self, other):\n",
    "        return Complex(self.real - other.real, self.imag - other.imag)\n",
    "    \n",
    "    # Умножение\n",
    "    def __mul__(self, other):\n",
    "        return Complex(self.real * other.real - self.imag * other.imag, self.real * other.imag + self.imag * other.real)\n",
    "    \n",
    "    # Деление\n",
    "    def __truediv__(self, other):\n",
    "        if other.real == 0 and other.imag == 0:\n",
    "            raise ZeroDivisionError(\"Нельзя делить на ноль\")\n",
    "        else:\n",
    "            denominator = other.real ** 2 + other.imag ** 2\n",
    "            return Complex((self.real * other.real + self.imag * other.imag) / denominator, (self.imag * other.real - self.real * other.imag) / denominator)"
   ]
  },
  {
   "cell_type": "markdown",
   "metadata": {},
   "source": [
    "> ### Представление кватернионов\n",
    "> ‎\n",
    "> <br />\n",
    "> Источник данных https://habr.com/ru/articles/426863/"
   ]
  },
  {
   "cell_type": "code",
   "execution_count": 3,
   "metadata": {},
   "outputs": [],
   "source": [
    "# Класс для представления кватернионов\n",
    "class Quaternion:\n",
    "    \n",
    "    # Конструктор с действительной и тремя мнимыми частями\n",
    "    def __init__(self, real, i, j, k):\n",
    "        self.real = real\n",
    "        self.i = i\n",
    "        self.j = j\n",
    "        self.k = k\n",
    "    \n",
    "    # Строковое представление кватерниона\n",
    "    def __str__(self):\n",
    "        parts = []\n",
    "        if self.real != 0:\n",
    "            parts.append(str(self.real))\n",
    "        if self.i != 0:\n",
    "            if self.i > 0 and len(parts) > 0:\n",
    "                parts.append(\"+\")\n",
    "            parts.append(f\"{self.i}i\")\n",
    "        if self.j != 0:\n",
    "            if self.j > 0 and len(parts) > 0:\n",
    "                parts.append(\"+\")\n",
    "            parts.append(f\"{self.j}j\")\n",
    "        if self.k != 0:\n",
    "            if self.k > 0 and len(parts) > 0:\n",
    "                parts.append(\"+\")\n",
    "            parts.append(f\"{self.k}k\")\n",
    "        if len(parts) == 0:\n",
    "            return \"0\"\n",
    "        else:\n",
    "            return \"\".join(parts)\n",
    "    \n",
    "    # Сложение кватернионов\n",
    "    def __add__(self, other):\n",
    "        return Quaternion(self.real + other.real, self.i + other.i, self.j + other.j, self.k + other.k)\n",
    "    \n",
    "    # Вычитание кватернионов\n",
    "    def __sub__(self, other):\n",
    "        return Quaternion(self.real - other.real, self.i - other.i, self.j - other.j, self.k - other.k)\n",
    "    \n",
    "    # Умножение кватернионов\n",
    "    def __mul__(self, other):\n",
    "        return Quaternion(\n",
    "            self.real * other.real - self.i * other.i - self.j * other.j - self.k * other.k,\n",
    "            self.real * other.i + self.i * other.real + self.j * other.k - self.k * other.j,\n",
    "            self.real * other.j - self.i * other.k + self.j * other.real + self.k * other.i,\n",
    "            self.real * other.k + self.i * other.j - self.j * other.i + self.k * other.real\n",
    "        )\n",
    "    \n",
    "    # Деление кватернионов\n",
    "    def __truediv__(self, other):\n",
    "        if other.real == 0 and other.i == 0 and other.j == 0 and other.k == 0:\n",
    "            raise ZeroDivisionError(\"Нельзя делить на ноль\")\n",
    "        else:\n",
    "            denominator = other.real ** 2 + other.i ** 2 + other.j ** 2 + other.k ** 2\n",
    "            return Quaternion(\n",
    "                round((self.real * other.real + self.i * other.i + self.j * other.j + self.k * other.k) / denominator, 3),\n",
    "                round((self.i * other.real - self.real * other.i - self.j * other.k + self.k * other.j) / denominator, 3),\n",
    "                round((self.j * other.real + self.real * other.j - self.k * other.i + self.i * other.k) / denominator, 3),\n",
    "                round((self.k * other.real + self.real * other.k + self.j * other.i - self.i * other.j) / denominator, 3)\n",
    "            )"
   ]
  },
  {
   "cell_type": "markdown",
   "metadata": {},
   "source": [
    "> ### Построение калькулятора\n",
    "> ‎"
   ]
  },
  {
   "cell_type": "code",
   "execution_count": 4,
   "metadata": {},
   "outputs": [],
   "source": [
    "# Класс для реализации калькулятора\n",
    "class Calculator:\n",
    "    \n",
    "    # Конструктор с пустым стеком\n",
    "    def __init__(self):\n",
    "        self.stack = []\n",
    "    \n",
    "    # Добавление числа в стек\n",
    "    def push(self, number):\n",
    "        self.stack.append(number)\n",
    "\n",
    "    # Извлечение числа из стека\n",
    "    def pop(self):\n",
    "        if len(self.stack) > 0:\n",
    "            return self.stack.pop()\n",
    "        else:\n",
    "            raise IndexError(\"Стек пуст\")\n",
    "    \n",
    "    # Просмотр верхнего элемента стека\n",
    "    def peek(self):\n",
    "        if len(self.stack) > 0:\n",
    "            return self.stack[-1]\n",
    "        else:\n",
    "            raise IndexError(\"Стек пуст\")\n",
    "    \n",
    "    # Выполнение операций над элементами\n",
    "    def operate(self, operation):\n",
    "        # Сложение\n",
    "        if operation == \"+\":\n",
    "            if len(self.stack) >= 2:\n",
    "                second = self.pop()\n",
    "                first = self.pop()\n",
    "                result = first + second\n",
    "                self.push(result)\n",
    "            else:\n",
    "                raise ValueError(\"Недостаточно элементов в стеке для сложения\")\n",
    "        # Вычитание\n",
    "        elif operation == \"-\":\n",
    "            if len(self.stack) >= 2:\n",
    "                second = self.pop()\n",
    "                first = self.pop()\n",
    "                result = first - second\n",
    "                self.push(result)\n",
    "            else:\n",
    "                raise ValueError(\"Недостаточно элементов в стеке для вычитания\")\n",
    "        # Умножение\n",
    "        elif operation == \"*\":\n",
    "            if len(self.stack) >= 2:\n",
    "                second = self.pop()\n",
    "                first = self.pop()\n",
    "                result = first * second\n",
    "                self.push(result)\n",
    "            else:\n",
    "                raise ValueError(\"Недостаточно элементов в стеке для умножения\")\n",
    "        # Деление\n",
    "        elif operation == \"/\":\n",
    "            if len(self.stack) >= 2:\n",
    "                second = self.pop()\n",
    "                first = self.pop()\n",
    "                result = first / second\n",
    "                self.push(result)\n",
    "            else:\n",
    "                raise ValueError(\"Недостаточно элементов в стеке для деления\")\n",
    "        else:\n",
    "            raise ValueError(\"Неверная операция\")\n",
    "    \n",
    "    # Вывод содержимого на экран\n",
    "    def print_stack(self):\n",
    "        for number in reversed(self.stack):\n",
    "            print(number)"
   ]
  },
  {
   "cell_type": "markdown",
   "metadata": {},
   "source": [
    "> ### Апробация комплексных чисел\n",
    "> ‎"
   ]
  },
  {
   "cell_type": "markdown",
   "metadata": {},
   "source": [
    "##### Сложение"
   ]
  },
  {
   "cell_type": "code",
   "execution_count": 5,
   "metadata": {},
   "outputs": [
    {
     "name": "stdout",
     "output_type": "stream",
     "text": [
      "4 - 2i\n"
     ]
    }
   ],
   "source": [
    "# Создаем калькулятор\n",
    "calc = Calculator()\n",
    "\n",
    "# Добавляем два комплексных числа в стек\n",
    "calc.push(Complex(1, 2))\n",
    "calc.push(Complex(3, -4))\n",
    "\n",
    "calc.operate(\"+\")\n",
    "calc.print_stack()"
   ]
  },
  {
   "cell_type": "markdown",
   "metadata": {},
   "source": [
    "##### Вычитание"
   ]
  },
  {
   "cell_type": "code",
   "execution_count": 6,
   "metadata": {},
   "outputs": [
    {
     "name": "stdout",
     "output_type": "stream",
     "text": [
      "-2 + 6i\n"
     ]
    }
   ],
   "source": [
    "# Создаем калькулятор\n",
    "calc = Calculator()\n",
    "\n",
    "# Добавляем два комплексных числа в стек\n",
    "calc.push(Complex(1, 2))\n",
    "calc.push(Complex(3, -4))\n",
    "\n",
    "calc.operate(\"-\")\n",
    "calc.print_stack()"
   ]
  },
  {
   "cell_type": "markdown",
   "metadata": {},
   "source": [
    "##### Деление"
   ]
  },
  {
   "cell_type": "code",
   "execution_count": 7,
   "metadata": {},
   "outputs": [
    {
     "name": "stdout",
     "output_type": "stream",
     "text": [
      "-0.2 + 0.4i\n"
     ]
    }
   ],
   "source": [
    "# Создаем калькулятор\n",
    "calc = Calculator()\n",
    "\n",
    "# Добавляем два комплексных числа в стек\n",
    "calc.push(Complex(1, 2))\n",
    "calc.push(Complex(3, -4))\n",
    "\n",
    "calc.operate(\"/\")\n",
    "calc.print_stack()"
   ]
  },
  {
   "cell_type": "markdown",
   "metadata": {},
   "source": [
    "##### Умножение"
   ]
  },
  {
   "cell_type": "code",
   "execution_count": 8,
   "metadata": {},
   "outputs": [
    {
     "name": "stdout",
     "output_type": "stream",
     "text": [
      "11 + 2i\n"
     ]
    }
   ],
   "source": [
    "# Создаем калькулятор\n",
    "calc = Calculator()\n",
    "\n",
    "# Добавляем два комплексных числа в стек\n",
    "calc.push(Complex(1, 2))\n",
    "calc.push(Complex(3, -4))\n",
    "\n",
    "calc.operate(\"*\")\n",
    "calc.print_stack()"
   ]
  },
  {
   "cell_type": "code",
   "execution_count": 9,
   "metadata": {},
   "outputs": [],
   "source": [
    "# Добавляем еще одно комплексное число в стек\n",
    "calc.push(Complex(-5, 6))"
   ]
  },
  {
   "cell_type": "code",
   "execution_count": 10,
   "metadata": {},
   "outputs": [
    {
     "name": "stdout",
     "output_type": "stream",
     "text": [
      "-67 + 56i\n"
     ]
    }
   ],
   "source": [
    "# Выполняем операцию умножения над ним и предыдущим результатом и выводим результат\n",
    "calc.operate(\"*\")\n",
    "calc.print_stack()"
   ]
  },
  {
   "cell_type": "markdown",
   "metadata": {},
   "source": [
    "> ### Апробация кватернионов\n",
    "> ‎"
   ]
  },
  {
   "cell_type": "markdown",
   "metadata": {},
   "source": [
    "##### Сложение"
   ]
  },
  {
   "cell_type": "code",
   "execution_count": 11,
   "metadata": {},
   "outputs": [
    {
     "name": "stdout",
     "output_type": "stream",
     "text": [
      "2-4k\n"
     ]
    }
   ],
   "source": [
    "# Создаем калькулятор\n",
    "calc = Calculator()\n",
    "\n",
    "# Добавляем два кватерниона в стек\n",
    "calc.push(Quaternion(1, 2, 3, 4))\n",
    "calc.push(Quaternion(1, -2, -3, -8))\n",
    "\n",
    "calc.operate(\"+\")\n",
    "calc.print_stack()"
   ]
  },
  {
   "cell_type": "markdown",
   "metadata": {},
   "source": [
    "##### Вычитание"
   ]
  },
  {
   "cell_type": "code",
   "execution_count": 12,
   "metadata": {},
   "outputs": [
    {
     "name": "stdout",
     "output_type": "stream",
     "text": [
      "4i+6j+12k\n"
     ]
    }
   ],
   "source": [
    "# Создаем калькулятор\n",
    "calc = Calculator()\n",
    "\n",
    "# Добавляем два кватерниона в стек\n",
    "calc.push(Quaternion(1, 2, 3, 4))\n",
    "calc.push(Quaternion(1, -2, -3, -8))\n",
    "\n",
    "calc.operate(\"-\")\n",
    "calc.print_stack()"
   ]
  },
  {
   "cell_type": "markdown",
   "metadata": {},
   "source": [
    "##### Деление"
   ]
  },
  {
   "cell_type": "code",
   "execution_count": 13,
   "metadata": {},
   "outputs": [
    {
     "name": "stdout",
     "output_type": "stream",
     "text": [
      "-0.564+0.205i-0.103j-0.051k\n"
     ]
    }
   ],
   "source": [
    "# Создаем калькулятор\n",
    "calc = Calculator()\n",
    "\n",
    "# Добавляем два кватерниона в стек\n",
    "calc.push(Quaternion(1, 2, 3, 4))\n",
    "calc.push(Quaternion(1, -2, -3, -8))\n",
    "\n",
    "calc.operate(\"/\")\n",
    "calc.print_stack()"
   ]
  },
  {
   "cell_type": "markdown",
   "metadata": {},
   "source": [
    "##### Умножение"
   ]
  },
  {
   "cell_type": "code",
   "execution_count": 14,
   "metadata": {},
   "outputs": [
    {
     "name": "stdout",
     "output_type": "stream",
     "text": [
      "46-12i+8j-4k\n"
     ]
    }
   ],
   "source": [
    "# Создаем калькулятор\n",
    "calc = Calculator()\n",
    "\n",
    "# Добавляем два кватерниона в стек\n",
    "calc.push(Quaternion(1, 2, 3, 4))\n",
    "calc.push(Quaternion(1, -2, -3, -8))\n",
    "\n",
    "calc.operate(\"*\")\n",
    "calc.print_stack()"
   ]
  },
  {
   "cell_type": "code",
   "execution_count": 15,
   "metadata": {},
   "outputs": [],
   "source": [
    "# Добавляем еще один кватернион в стек\n",
    "calc.push(Quaternion(9, 10, 11, 12))"
   ]
  },
  {
   "cell_type": "code",
   "execution_count": 16,
   "metadata": {},
   "outputs": [
    {
     "name": "stdout",
     "output_type": "stream",
     "text": [
      "494+492i+682j+304k\n"
     ]
    }
   ],
   "source": [
    "# Выполняем операцию умножения над ним и предыдущим результатом и выводим результат\n",
    "calc.operate(\"*\")\n",
    "calc.print_stack()"
   ]
  }
 ],
 "metadata": {
  "kernelspec": {
   "display_name": "base",
   "language": "python",
   "name": "python3"
  },
  "language_info": {
   "codemirror_mode": {
    "name": "ipython",
    "version": 3
   },
   "file_extension": ".py",
   "mimetype": "text/x-python",
   "name": "python",
   "nbconvert_exporter": "python",
   "pygments_lexer": "ipython3",
   "version": "3.11.3"
  }
 },
 "nbformat": 4,
 "nbformat_minor": 2
}
